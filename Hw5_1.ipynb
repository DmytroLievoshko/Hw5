{
  "nbformat": 4,
  "nbformat_minor": 0,
  "metadata": {
    "colab": {
      "provenance": [],
      "toc_visible": true
    },
    "kernelspec": {
      "name": "python3",
      "display_name": "Python 3"
    },
    "language_info": {
      "name": "python"
    }
  },
  "cells": [
    {
      "cell_type": "markdown",
      "source": [
        "# модуля 5"
      ],
      "metadata": {
        "id": "-6cPnNa0HrCb"
      }
    },
    {
      "cell_type": "markdown",
      "source": [
        "## Первая часть"
      ],
      "metadata": {
        "id": "yQOJWIrWHuMU"
      }
    },
    {
      "cell_type": "markdown",
      "source": [
        "Для прямоугольной области площадью 1000 м2, примыкающей к прямому участку реки, необходимо построить ограду (причем со стороны реки ограду строить не нужно). При каких размерах области a, b длина ограды будет минимальной? Используйте функцию minimize с параметрами ограничениями bounds и constraints"
      ],
      "metadata": {
        "id": "L2csIA63HzW5"
      }
    },
    {
      "cell_type": "code",
      "source": [
        "from scipy.optimize import minimize\n",
        "\n",
        "def objective(x):\n",
        "    return 2*x[1] + x[0]\n",
        "\n",
        "def constraint(x):\n",
        "    return x[0]*x[1] - 1000\n",
        "\n",
        "# задаем начальное значение\n",
        "x0 = [10, 100]\n",
        "\n",
        "# определяем границы и ограничения\n",
        "bounds = [(None, 100), (None, 100)]\n",
        "constraints = {'type': 'eq', 'fun': constraint}\n",
        "\n",
        "# решаем задачу оптимизации\n",
        "res = minimize(objective, x0, method='SLSQP', bounds=bounds, constraints=constraints)\n",
        "\n",
        "# выводим результаты\n",
        "print('Длина ограды:', res.fun)\n",
        "print('Размеры прямоугольной области:', res.x)"
      ],
      "metadata": {
        "colab": {
          "base_uri": "https://localhost:8080/"
        },
        "id": "YNgI8_nDH444",
        "outputId": "cec7b52d-bca1-42ba-b100-c705ad09b0b1"
      },
      "execution_count": 24,
      "outputs": [
        {
          "output_type": "stream",
          "name": "stdout",
          "text": [
            "Длина ограды: 89.44271918101153\n",
            "Размеры прямоугольной области: [44.71938042 22.36166938]\n"
          ]
        }
      ]
    }
  ]
}