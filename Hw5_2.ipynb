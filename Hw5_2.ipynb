{
  "cells": [
    {
      "cell_type": "markdown",
      "metadata": {
        "id": "GaY9CMpFJ3to"
      },
      "source": [
        "# модуля 5"
      ]
    },
    {
      "cell_type": "markdown",
      "metadata": {
        "id": "bzner2vrJ5Xe"
      },
      "source": [
        "## Вторая часть"
      ]
    },
    {
      "cell_type": "markdown",
      "metadata": {
        "id": "_1RuclJqKARP"
      },
      "source": [
        "Во вторая части прошлого домашнего задания мы решали дифференциальные уравнения и строили графики. Продолжаем работать над этой домашней работой дальше.\n",
        "\n",
        "Необходимо методом наименьших квадратов:\n",
        "для набора данных графика функции S(t) получить уравнение вида:\n",
        "S(t)=S0e^−αt \n",
        "для набора данных графика функции\n",
        "I(t) получить уравнение вида:\n",
        "I(t)=(I0+αS0t)e^−αt \n",
        "Для уравнения R(t) график функции будет \n",
        "R(t)=N−S(t)−I(t)\n",
        "Построить все три графика \n",
        "S(t), I(t) и R(t) на одной области отображения полученные методом наименьших квадратов\n",
        "\n",
        "Найти время tmax при котором число инфекционных индивидов максимально. Надо с помощью метода minimize_scalar найти когда функция I(t) достигает своего максимума."
      ]
    },
    {
      "cell_type": "code",
      "execution_count": 6,
      "metadata": {
        "colab": {
          "base_uri": "https://localhost:8080/",
          "height": 377
        },
        "id": "4CN0Y7P7Uj51",
        "outputId": "9f6db60b-091f-4207-8aac-968a025286b9"
      },
      "outputs": [
        {
          "name": "stderr",
          "output_type": "stream",
          "text": [
            "<ipython-input-6-cab370fea6ed>:32: RuntimeWarning: overflow encountered in exp\n",
            "  return a/b*np.exp(b*t)*(1-np.exp(-b*t))\n",
            "<ipython-input-6-cab370fea6ed>:32: RuntimeWarning: invalid value encountered in multiply\n",
            "  return a/b*np.exp(b*t)*(1-np.exp(-b*t))\n"
          ]
        },
        {
          "data": {
            "image/png": "[encoded data removed]",
            "text/plain": [
              "<Figure size 432x288 with 1 Axes>"
            ]
          },
          "metadata": {
            "needs_background": "light"
          },
          "output_type": "display_data"
        },
        {
          "name": "stdout",
          "output_type": "stream",
          "text": [
            "Time at which the number of infectious individuals is maximum:  1.8090169732169266\n"
          ]
        }
      ],
      "source": [
        "import numpy as np\n",
        "from scipy.integrate import solve_ivp\n",
        "import matplotlib.pyplot as plt\n",
        "from scipy.interpolate import interp1d\n",
        "from scipy.optimize import curve_fit\n",
        "from scipy.optimize import minimize_scalar\n",
        "\n",
        "# Задаем начальные условия\n",
        "N = 1000000\n",
        "S0, I0, R0 = 990000, 7000, 3000\n",
        "alpha, beta = 0.5, 0.3\n",
        "\n",
        "# Задаем функцию, которую нужно решить (Уравнение 2)\n",
        "def deriv(t, y):\n",
        "    S = y[0]\n",
        "    dSdt = -alpha*S\n",
        "    return dSdt\n",
        "\n",
        "# Задаем временной интервал\n",
        "t0, tf = 0, 25\n",
        "t_eval = np.linspace(t0, tf, 1000)\n",
        "\n",
        "# Решаем дифференциальное уравнение\n",
        "sol_S = solve_ivp(deriv, [t0, tf], [S0], t_eval=t_eval)\n",
        "\n",
        "# Задаем функцию, которую нужно решить (Уравнение 3)\n",
        "def deriv(t, y):\n",
        "    S, I, R = y\n",
        "    dSdt = -alpha*S\n",
        "    dIdt = alpha*S - beta*I\n",
        "    dRdt = beta*I\n",
        "    return dSdt, dIdt, dRdt\n",
        "\n",
        "# Решаем дифференциальное уравнение\n",
        "sol_I = solve_ivp(deriv, [t0, tf], [S0, I0, R0], t_eval=t_eval)\n",
        "\n",
        "# Находим значения функции I(t) на временной сетке t_eval\n",
        "I_interp = interp1d(sol_I.t, sol_I.y[1])\n",
        "\n",
        "# Находим значения функции R(t) на временной сетке t_eval (Уравнение 3)\n",
        "R = N - sol_I.y[0] - sol_I.y[1]\n",
        "R_interp = interp1d(sol_I.t, R)\n",
        "\n",
        "# Точки данных для S (t) и I (t)\n",
        "t_data = sol_S.t\n",
        "S_data = sol_S.y[0]\n",
        "I_data = sol_I.y[1]\n",
        "\n",
        "# Определите функции\n",
        "def fit_S(t, S0, alpha):\n",
        "    return S0 * np.exp(-alpha * t)\n",
        "\n",
        "def fit_I(t, I0, alpha, S0):\n",
        "    return (I0 + alpha * S0 * t) * np.exp(-alpha * t)\n",
        "\n",
        "popt_S, _ = curve_fit(fit_S, t_data, S_data)\n",
        "popt_I, _ = curve_fit(fit_I, t_data, I_data, p0=[I0, alpha, S0])\n",
        "\n",
        "# Выведите коэффициенты\n",
        "print(\"S(t) = {0:.2f} * exp(-{1:.2f} * t)\".format(popt_S[0], popt_S[1]))\n",
        "print(\"I(t) = ({0:.2f} + {1:.2f} * t) * exp(-{1:.2f} * t)\".format(popt_I[0], popt_I[1], popt_I[2]))\n",
        "\n",
        "\n",
        "\n",
        "# Определить отрицательное значение функции I(t)\n",
        "def neg_I(t):\n",
        "    return -I_interp(t)\n",
        "\n",
        "# Найдите значение t, которое минимизирует neg_I\n",
        "res = minimize_scalar(neg_I, bounds=(t0, tf), method='bounded')\n",
        "\n",
        "# Выведите значение t_max и соответствующее значение I(t)\n",
        "t_max = res.x\n",
        "I_max = -res.fun\n",
        "print(\"t_max = {0:.2f}, I_max = {1:.2f}\".format(t_max, I_max))\n",
        "\n",
        "# Вычислите значения S(t), I(t) и R(t), используя подобранные уравнения\n",
        "S_fit = fit_S(t_eval, *popt_S)\n",
        "I_fit = fit_I(t_eval, *popt_I)\n",
        "R_fit = N - S_fit - I_fit\n",
        "\n",
        "# Постройте графиков\n",
        "plt.plot(t_eval, S_fit, label='S(t)')\n",
        "plt.plot(t_eval, I_fit, label='I(t)')\n",
        "plt.plot(t_eval, R_fit, label='R(t)')\n",
        "plt.legend()\n",
        "plt.xlabel('Time (days)')\n",
        "plt.ylabel('Number of individuals')\n",
        "plt.show()"
      ]
    }
  ],
  "metadata": {
    "colab": {
      "provenance": [],
      "toc_visible": true
    },
    "kernelspec": {
      "display_name": "Python 3",
      "name": "python3"
    },
    "language_info": {
      "name": "python"
    }
  },
  "nbformat": 4,
  "nbformat_minor": 0
}
